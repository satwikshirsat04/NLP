{
 "cells": [
  {
   "cell_type": "markdown",
   "id": "798f743c-2d16-43ca-84a8-8fe4088d3dfa",
   "metadata": {},
   "source": [
    "STEMMING"
   ]
  },
  {
   "cell_type": "code",
   "execution_count": 48,
   "id": "88e8b055-17e8-40e1-947b-71fdaa7cd2db",
   "metadata": {},
   "outputs": [
    {
     "data": {
      "text/plain": [
       "['eaten', 'eating', 'doing', 'done', 'going', 'gone', 'history', 'historical']"
      ]
     },
     "execution_count": 48,
     "metadata": {},
     "output_type": "execute_result"
    }
   ],
   "source": [
    "words = ['eaten','eating','doing','done','going','gone','history','historical']\n",
    "words"
   ]
  },
  {
   "cell_type": "markdown",
   "id": "f2cd73fd-7521-430d-831a-ce08d67065ea",
   "metadata": {},
   "source": [
    "PORTER STEMMER"
   ]
  },
  {
   "cell_type": "code",
   "execution_count": 49,
   "id": "046f5923-b404-4f12-951c-221ef6f16824",
   "metadata": {},
   "outputs": [],
   "source": [
    "from nltk.stem import PorterStemmer"
   ]
  },
  {
   "cell_type": "code",
   "execution_count": 64,
   "id": "f6a3cbcd-c4ba-4079-ade7-8d692647a331",
   "metadata": {},
   "outputs": [],
   "source": [
    "porterstemmer = PorterStemmer()"
   ]
  },
  {
   "cell_type": "code",
   "execution_count": 65,
   "id": "58424922-a43b-498c-ad70-173e51afec63",
   "metadata": {},
   "outputs": [
    {
     "name": "stdout",
     "output_type": "stream",
     "text": [
      "eaten----->eaten\n",
      "eating----->eat\n",
      "doing----->do\n",
      "done----->done\n",
      "going----->go\n",
      "gone----->gone\n",
      "history----->histori\n",
      "historical----->histor\n"
     ]
    }
   ],
   "source": [
    "for word in words:\n",
    "    print(word+\"----->\"+porterstemmer.stem(word))"
   ]
  },
  {
   "cell_type": "markdown",
   "id": "3125f9e5-3aaf-4df4-8416-917ad082e1ab",
   "metadata": {},
   "source": [
    "REGEXPSTEMMER"
   ]
  },
  {
   "cell_type": "code",
   "execution_count": 66,
   "id": "19bffaf8-e7d0-42dc-9645-fce005c43cb0",
   "metadata": {},
   "outputs": [],
   "source": [
    "from nltk.stem import RegexpStemmer"
   ]
  },
  {
   "cell_type": "code",
   "execution_count": 67,
   "id": "4d0e20fb-89aa-4efb-be4d-e3cb48a6f514",
   "metadata": {},
   "outputs": [],
   "source": [
    "regex = RegexpStemmer('ing$|able$|s$|e$',min = 4)"
   ]
  },
  {
   "cell_type": "code",
   "execution_count": 68,
   "id": "9a01e0d5-6faf-452a-b5c3-b4bbff950499",
   "metadata": {},
   "outputs": [
    {
     "data": {
      "text/plain": [
       "'eat'"
      ]
     },
     "execution_count": 68,
     "metadata": {},
     "output_type": "execute_result"
    }
   ],
   "source": [
    "regex.stem('eating')"
   ]
  },
  {
   "cell_type": "code",
   "execution_count": 69,
   "id": "090b3072-ca36-44f4-9965-8235bd297085",
   "metadata": {},
   "outputs": [
    {
     "data": {
      "text/plain": [
       "'eat'"
      ]
     },
     "execution_count": 69,
     "metadata": {},
     "output_type": "execute_result"
    }
   ],
   "source": [
    "regex.stem('eating')"
   ]
  },
  {
   "cell_type": "code",
   "execution_count": 70,
   "id": "38605adc-0ed7-4ce1-9559-e141645b370d",
   "metadata": {},
   "outputs": [],
   "source": [
    "regex = RegexpStemmer('ing|able$|s$|e$',min = 4)"
   ]
  },
  {
   "cell_type": "code",
   "execution_count": 71,
   "id": "3bd40a02-c293-4e7d-a958-71f7dd9c533c",
   "metadata": {},
   "outputs": [
    {
     "data": {
      "text/plain": [
       "'eat'"
      ]
     },
     "execution_count": 71,
     "metadata": {},
     "output_type": "execute_result"
    }
   ],
   "source": [
    "regex.stem('ingeating')"
   ]
  },
  {
   "cell_type": "markdown",
   "id": "935865b5-9c88-47e6-b73b-99b6bc3b4947",
   "metadata": {},
   "source": [
    "SNOWBALL STEMMING"
   ]
  },
  {
   "cell_type": "code",
   "execution_count": 72,
   "id": "9232c3cf-2c63-4ed5-8861-7cc5ddafa56f",
   "metadata": {},
   "outputs": [],
   "source": [
    "from nltk.stem import SnowballStemmer"
   ]
  },
  {
   "cell_type": "code",
   "execution_count": 73,
   "id": "4b611557-0c33-40b3-b594-b562594c6dc4",
   "metadata": {},
   "outputs": [],
   "source": [
    "snowball = SnowballStemmer('english')"
   ]
  },
  {
   "cell_type": "code",
   "execution_count": 74,
   "id": "1920c505-93e2-4e91-b3f2-d8a45c1cda62",
   "metadata": {},
   "outputs": [
    {
     "name": "stdout",
     "output_type": "stream",
     "text": [
      "eaten----->eaten\n",
      "eating----->eat\n",
      "doing----->do\n",
      "done----->done\n",
      "going----->go\n",
      "gone----->gone\n",
      "history----->histori\n",
      "historical----->histor\n"
     ]
    }
   ],
   "source": [
    "for word in words:\n",
    "    print(word+\"----->\"+snowball.stem(word))"
   ]
  },
  {
   "cell_type": "code",
   "execution_count": 80,
   "id": "6f395335-a35c-4792-b1e4-b0d8396b2f38",
   "metadata": {},
   "outputs": [
    {
     "data": {
      "text/plain": [
       "('fair', 'congratul')"
      ]
     },
     "execution_count": 80,
     "metadata": {},
     "output_type": "execute_result"
    }
   ],
   "source": [
    "snowball.stem('fairly'),snowball.stem('congratulations')"
   ]
  },
  {
   "cell_type": "code",
   "execution_count": 78,
   "id": "e659c585-8957-43a5-9b1e-0919fe139831",
   "metadata": {},
   "outputs": [
    {
     "data": {
      "text/plain": [
       "'fairli'"
      ]
     },
     "execution_count": 78,
     "metadata": {},
     "output_type": "execute_result"
    }
   ],
   "source": [
    "porterstemmer.stem('fairly')"
   ]
  },
  {
   "cell_type": "code",
   "execution_count": 81,
   "id": "54afadb6-f274-4dab-a911-2ed4deee3a49",
   "metadata": {},
   "outputs": [
    {
     "data": {
      "text/plain": [
       "('fairly', 'congratulation')"
      ]
     },
     "execution_count": 81,
     "metadata": {},
     "output_type": "execute_result"
    }
   ],
   "source": [
    "regex.stem('fairly'),regex.stem('congratulations')"
   ]
  },
  {
   "cell_type": "markdown",
   "id": "8825a09e-c218-4a49-aa4f-ccd8095d09da",
   "metadata": {},
   "source": [
    "THIS LIMITATIONS ARE OVERCOMED BY LEMMATIZATION"
   ]
  },
  {
   "cell_type": "code",
   "execution_count": null,
   "id": "e269e42f-fe2a-4e90-a668-6a75e27f440c",
   "metadata": {},
   "outputs": [],
   "source": []
  }
 ],
 "metadata": {
  "kernelspec": {
   "display_name": "Python 3 (ipykernel)",
   "language": "python",
   "name": "python3"
  },
  "language_info": {
   "codemirror_mode": {
    "name": "ipython",
    "version": 3
   },
   "file_extension": ".py",
   "mimetype": "text/x-python",
   "name": "python",
   "nbconvert_exporter": "python",
   "pygments_lexer": "ipython3",
   "version": "3.12.1"
  }
 },
 "nbformat": 4,
 "nbformat_minor": 5
}
