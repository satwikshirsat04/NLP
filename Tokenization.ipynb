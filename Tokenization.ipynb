{
 "cells": [
  {
   "cell_type": "code",
   "execution_count": 1,
   "id": "1e7a7453-153d-4b10-95ec-f206931f241e",
   "metadata": {},
   "outputs": [
    {
     "name": "stdout",
     "output_type": "stream",
     "text": [
      "Defaulting to user installation because normal site-packages is not writeable\n",
      "Requirement already satisfied: nltk in c:\\users\\satwi\\appdata\\roaming\\python\\python312\\site-packages (3.8.1)\n",
      "Requirement already satisfied: click in c:\\users\\satwi\\appdata\\roaming\\python\\python312\\site-packages (from nltk) (8.1.7)\n",
      "Requirement already satisfied: joblib in c:\\users\\satwi\\appdata\\roaming\\python\\python312\\site-packages (from nltk) (1.4.2)\n",
      "Requirement already satisfied: regex>=2021.8.3 in c:\\users\\satwi\\appdata\\roaming\\python\\python312\\site-packages (from nltk) (2023.12.25)\n",
      "Requirement already satisfied: tqdm in c:\\users\\satwi\\appdata\\roaming\\python\\python312\\site-packages (from nltk) (4.66.2)\n",
      "Requirement already satisfied: colorama in c:\\users\\satwi\\appdata\\roaming\\python\\python312\\site-packages (from click->nltk) (0.4.6)\n"
     ]
    }
   ],
   "source": [
    "!pip install nltk"
   ]
  },
  {
   "cell_type": "markdown",
   "id": "1cd50875-7c07-4b4b-9896-cabae1899f0e",
   "metadata": {},
   "source": [
    "TOKENIZATION"
   ]
  },
  {
   "cell_type": "code",
   "execution_count": null,
   "id": "be97a13c-b62d-4a72-8c4f-5ccba201cf82",
   "metadata": {},
   "outputs": [],
   "source": [
    "##tokenization para ---> sent"
   ]
  },
  {
   "cell_type": "code",
   "execution_count": 56,
   "id": "df543fa5-d503-463b-975e-b2c272a8d073",
   "metadata": {},
   "outputs": [
    {
     "name": "stdout",
     "output_type": "stream",
     "text": [
      "hii am satwik shirsat. I am a student of AI, ML, and Data Science. I am a YouTuber. value's are added\n"
     ]
    }
   ],
   "source": [
    "corpus = \"\"\"hii am satwik shirsat. I am a student of AI, ML, and Data Science. I am a YouTuber. value's are added\"\"\"\n",
    "print(corpus)\n"
   ]
  },
  {
   "cell_type": "code",
   "execution_count": 57,
   "id": "9dc5fe68-2762-4942-b943-009ea2883aeb",
   "metadata": {},
   "outputs": [],
   "source": [
    "from nltk.tokenize import sent_tokenize"
   ]
  },
  {
   "cell_type": "code",
   "execution_count": 58,
   "id": "279b97b8-23d3-4826-bff0-7e434ce1ab8c",
   "metadata": {},
   "outputs": [
    {
     "name": "stdout",
     "output_type": "stream",
     "text": [
      "['hii am satwik shirsat.', 'I am a student of AI, ML, and Data Science.', 'I am a YouTuber.', \"value's are added\"]\n"
     ]
    }
   ],
   "source": [
    "document = sent_tokenize(corpus)\n",
    "print(document)"
   ]
  },
  {
   "cell_type": "code",
   "execution_count": 59,
   "id": "c1bb0171-af90-4615-9646-532e314823b3",
   "metadata": {},
   "outputs": [],
   "source": [
    "##tokenization sent ---> word"
   ]
  },
  {
   "cell_type": "code",
   "execution_count": 61,
   "id": "f6c09e5f-43de-4ea4-b8bb-7d0d29b7e862",
   "metadata": {},
   "outputs": [],
   "source": [
    "from nltk.tokenize import word_tokenize"
   ]
  },
  {
   "cell_type": "code",
   "execution_count": 62,
   "id": "bd9e81e1-2d52-47d1-a0b1-d1489e20cf80",
   "metadata": {},
   "outputs": [
    {
     "data": {
      "text/plain": [
       "['hii',\n",
       " 'am',\n",
       " 'satwik',\n",
       " 'shirsat',\n",
       " '.',\n",
       " 'I',\n",
       " 'am',\n",
       " 'a',\n",
       " 'student',\n",
       " 'of',\n",
       " 'AI',\n",
       " ',',\n",
       " 'ML',\n",
       " ',',\n",
       " 'and',\n",
       " 'Data',\n",
       " 'Science',\n",
       " '.',\n",
       " 'I',\n",
       " 'am',\n",
       " 'a',\n",
       " 'YouTuber',\n",
       " '.',\n",
       " 'value',\n",
       " \"'s\",\n",
       " 'are',\n",
       " 'added']"
      ]
     },
     "execution_count": 62,
     "metadata": {},
     "output_type": "execute_result"
    }
   ],
   "source": [
    "word_tokenize(corpus)"
   ]
  },
  {
   "cell_type": "code",
   "execution_count": 63,
   "id": "dc748c0a-c27d-4df6-ac76-a4b45437bee7",
   "metadata": {},
   "outputs": [],
   "source": [
    "from nltk.tokenize import wordpunct_tokenize"
   ]
  },
  {
   "cell_type": "code",
   "execution_count": 64,
   "id": "e3342af3-696f-46d7-86bd-d89539f1558e",
   "metadata": {},
   "outputs": [
    {
     "data": {
      "text/plain": [
       "['hii',\n",
       " 'am',\n",
       " 'satwik',\n",
       " 'shirsat',\n",
       " '.',\n",
       " 'I',\n",
       " 'am',\n",
       " 'a',\n",
       " 'student',\n",
       " 'of',\n",
       " 'AI',\n",
       " ',',\n",
       " 'ML',\n",
       " ',',\n",
       " 'and',\n",
       " 'Data',\n",
       " 'Science',\n",
       " '.',\n",
       " 'I',\n",
       " 'am',\n",
       " 'a',\n",
       " 'YouTuber',\n",
       " '.',\n",
       " 'value',\n",
       " \"'\",\n",
       " 's',\n",
       " 'are',\n",
       " 'added']"
      ]
     },
     "execution_count": 64,
     "metadata": {},
     "output_type": "execute_result"
    }
   ],
   "source": [
    "wordpunct_tokenize(corpus)"
   ]
  },
  {
   "cell_type": "code",
   "execution_count": null,
   "id": "403a5d90-3a2a-419e-9225-b96f42498e22",
   "metadata": {},
   "outputs": [],
   "source": []
  }
 ],
 "metadata": {
  "kernelspec": {
   "display_name": "Python 3 (ipykernel)",
   "language": "python",
   "name": "python3"
  },
  "language_info": {
   "codemirror_mode": {
    "name": "ipython",
    "version": 3
   },
   "file_extension": ".py",
   "mimetype": "text/x-python",
   "name": "python",
   "nbconvert_exporter": "python",
   "pygments_lexer": "ipython3",
   "version": "3.12.1"
  }
 },
 "nbformat": 4,
 "nbformat_minor": 5
}
