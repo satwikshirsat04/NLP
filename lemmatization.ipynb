{
 "cells": [
  {
   "cell_type": "code",
   "execution_count": 15,
   "id": "cfad5374-e8cb-4e4b-9161-6c1a2d100881",
   "metadata": {},
   "outputs": [
    {
     "data": {
      "text/plain": [
       "['eaten',\n",
       " 'eating',\n",
       " 'doing',\n",
       " 'done',\n",
       " 'going',\n",
       " 'gone',\n",
       " 'history',\n",
       " 'historical',\n",
       " 'congratulations']"
      ]
     },
     "execution_count": 15,
     "metadata": {},
     "output_type": "execute_result"
    }
   ],
   "source": [
    "words = ['eaten','eating','doing','done','going','gone','history','historical','congratulations']\n",
    "words"
   ]
  },
  {
   "cell_type": "code",
   "execution_count": 16,
   "id": "e86dfc9b-a9e3-4b60-8dca-ae2896f1778f",
   "metadata": {},
   "outputs": [],
   "source": [
    "from nltk.stem import WordNetLemmatizer"
   ]
  },
  {
   "cell_type": "code",
   "execution_count": 17,
   "id": "64e06811-5568-4f9c-a3f8-4f4a3b1e830c",
   "metadata": {},
   "outputs": [],
   "source": [
    "le = WordNetLemmatizer()"
   ]
  },
  {
   "cell_type": "code",
   "execution_count": 21,
   "id": "8e3a7db6-586f-4e52-9a66-7ebf5fa17b28",
   "metadata": {},
   "outputs": [
    {
     "name": "stdout",
     "output_type": "stream",
     "text": [
      "eaten----->eat\n",
      "eating----->eat\n",
      "doing----->do\n",
      "done----->do\n",
      "going----->go\n",
      "gone----->go\n",
      "history----->history\n",
      "historical----->historical\n",
      "congratulations----->congratulations\n"
     ]
    }
   ],
   "source": [
    "for i in words:\n",
    "    print(i+\"----->\"+le.lemmatize(i,pos='v'))"
   ]
  },
  {
   "cell_type": "code",
   "execution_count": null,
   "id": "ef61e00c-845f-4cca-bbfa-cb8a55fd1d59",
   "metadata": {},
   "outputs": [],
   "source": []
  }
 ],
 "metadata": {
  "kernelspec": {
   "display_name": "Python 3 (ipykernel)",
   "language": "python",
   "name": "python3"
  },
  "language_info": {
   "codemirror_mode": {
    "name": "ipython",
    "version": 3
   },
   "file_extension": ".py",
   "mimetype": "text/x-python",
   "name": "python",
   "nbconvert_exporter": "python",
   "pygments_lexer": "ipython3",
   "version": "3.12.1"
  }
 },
 "nbformat": 4,
 "nbformat_minor": 5
}
